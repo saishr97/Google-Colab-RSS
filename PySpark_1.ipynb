{
  "nbformat": 4,
  "nbformat_minor": 0,
  "metadata": {
    "colab": {
      "provenance": []
    },
    "kernelspec": {
      "name": "python3",
      "display_name": "Python 3"
    },
    "language_info": {
      "name": "python"
    }
  },
  "cells": [
    {
      "cell_type": "code",
      "execution_count": 18,
      "metadata": {
        "colab": {
          "base_uri": "https://localhost:8080/"
        },
        "id": "TIwIoYTJ8qBb",
        "outputId": "4218014a-f422-4e2a-8d97-bec0dd493017"
      },
      "outputs": [
        {
          "output_type": "stream",
          "name": "stdout",
          "text": [
            "+--------+------+-------+\n",
            "|movie_id|rating|user_id|\n",
            "+--------+------+-------+\n",
            "|     101|   5.0|      1|\n",
            "|     101|   4.0|      2|\n",
            "|     102|   3.5|      3|\n",
            "|     103|   2.0|      4|\n",
            "|     101|   4.5|      5|\n",
            "|     102|   3.0|      6|\n",
            "|     103|   2.5|      7|\n",
            "|     104|   4.0|      8|\n",
            "|     104|   3.5|      9|\n",
            "|     105|   5.0|     10|\n",
            "|     105|   4.5|     11|\n",
            "|     101|   4.0|     12|\n",
            "|     102|   3.8|     13|\n",
            "+--------+------+-------+\n",
            "\n"
          ]
        }
      ],
      "source": [
        "from pyspark.sql import SparkSession\n",
        "from pyspark.sql.functions import col, avg, count\n",
        "\n",
        "\n",
        "spark = SparkSession.builder.appName(\"MovieRatingsAnalysis\").getOrCreate()\n",
        "\n",
        "df = [\n",
        "    {\"user_id\": 1, \"movie_id\": 101, \"rating\": 5.0},\n",
        "    {\"user_id\": 2, \"movie_id\": 101, \"rating\": 4.0},\n",
        "    {\"user_id\": 3, \"movie_id\": 102, \"rating\": 3.5},\n",
        "    {\"user_id\": 4, \"movie_id\": 103, \"rating\": 2.0},\n",
        "    {\"user_id\": 5, \"movie_id\": 101, \"rating\": 4.5},\n",
        "    {\"user_id\": 6, \"movie_id\": 102, \"rating\": 3.0},\n",
        "    {\"user_id\": 7, \"movie_id\": 103, \"rating\": 2.5},\n",
        "    {\"user_id\": 8, \"movie_id\": 104, \"rating\": 4.0},\n",
        "    {\"user_id\": 9, \"movie_id\": 104, \"rating\": 3.5},\n",
        "    {\"user_id\": 10, \"movie_id\": 105, \"rating\": 5.0},\n",
        "    {\"user_id\": 11, \"movie_id\": 105, \"rating\": 4.5},\n",
        "    {\"user_id\": 12, \"movie_id\": 101, \"rating\": 4.0},\n",
        "    {\"user_id\": 13, \"movie_id\": 102, \"rating\": 3.8}\n",
        "]\n",
        "\n",
        "\n",
        "df = spark.createDataFrame(df)\n",
        "df.show()"
      ]
    },
    {
      "cell_type": "code",
      "source": [
        "\n",
        "avg_ratings = df.groupBy(\"movie_id\").agg(\n",
        "    avg(\"rating\").alias(\"avg_rating\"),\n",
        ")\n"
      ],
      "metadata": {
        "id": "dTLwDPbH9KxX"
      },
      "execution_count": 19,
      "outputs": []
    },
    {
      "cell_type": "code",
      "source": [
        "\n",
        "top_movies = avg_ratings.orderBy(col(\"avg_rating\").desc()).limit(5)\n",
        "top_movies.show()\n"
      ],
      "metadata": {
        "colab": {
          "base_uri": "https://localhost:8080/"
        },
        "id": "ovEtPw3n9RZz",
        "outputId": "cf56e513-2459-4669-e34e-7b17455ce826"
      },
      "execution_count": 23,
      "outputs": [
        {
          "output_type": "stream",
          "name": "stdout",
          "text": [
            "+--------+------------------+------------+\n",
            "|movie_id|        avg_rating|rating_count|\n",
            "+--------+------------------+------------+\n",
            "|     105|              4.75|           2|\n",
            "|     101|             4.375|           4|\n",
            "|     104|              3.75|           2|\n",
            "|     102|3.4333333333333336|           3|\n",
            "|     103|              2.25|           2|\n",
            "+--------+------------------+------------+\n",
            "\n"
          ]
        }
      ]
    },
    {
      "cell_type": "code",
      "source": [
        "\n",
        "spark.stop()\n"
      ],
      "metadata": {
        "id": "u7YRx8vq_kGk"
      },
      "execution_count": 26,
      "outputs": []
    }
  ]
}